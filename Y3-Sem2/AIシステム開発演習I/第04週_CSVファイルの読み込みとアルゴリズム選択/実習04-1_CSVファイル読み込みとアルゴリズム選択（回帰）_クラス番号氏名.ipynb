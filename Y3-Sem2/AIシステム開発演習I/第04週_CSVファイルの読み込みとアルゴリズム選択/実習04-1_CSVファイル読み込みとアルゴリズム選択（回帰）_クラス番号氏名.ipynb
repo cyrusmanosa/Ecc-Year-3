{
  "nbformat": 4,
  "nbformat_minor": 0,
  "metadata": {
    "colab": {
      "provenance": []
    },
    "kernelspec": {
      "name": "python3",
      "display_name": "Python 3"
    }
  },
  "cells": [
    {
      "cell_type": "markdown",
      "source": [
        "**実習ファイルをアップロードして開いたら、一番上のファイル名「クラス番号氏名」を必ず自分のものに書き換えること。**"
      ],
      "metadata": {
        "id": "fbMNTLANd-UD"
      }
    },
    {
      "cell_type": "markdown",
      "metadata": {
        "id": "ykEaNn_yb2Sw"
      },
      "source": [
        "# 実習04-1 CSVファイル読み込みとアルゴリズム選択（回帰）\n",
        "---\n",
        "これまでは、sklearn内に用意されたデータセットを使用していたが、今回はCSVファイルを読み込んで使用する。\n",
        "\n",
        "また、使用する機械学習のアルゴリズムは、可能であれば複数のアルゴリズムの中から、精度の高そうなものを選択した方がよい。\n",
        "\n",
        "今回の実習では、まず回帰問題について、次の手順でアルゴリズムの選択を行う。\n",
        "\n",
        "0.  実行したいタスクと学習分類の確認\n",
        "1.   学習用データをCSVファイルから読み込み、データを準備する。\n",
        "2.   全ての選択可能なアルゴリズムについて学習を行い、精度の高そうなモデルを選択する。\n",
        "3.   選択したアルゴリズムを使用して再びモデルを作成し、訓練用データで訓練した後、テスト用データで精度を確認する。\n",
        "\n"
      ]
    },
    {
      "cell_type": "markdown",
      "source": [
        "## 0. 実行したいタスクと学習分類の確認\n",
        "ここでは、米国カリフォルニアの住環境の情報（築年数、部屋数など8項目）から、平均住宅価格を予測するモデルを作成する。使用するデータセットに予測すべき値が含まれており、また、予測するのは数値であるため、学習分類は\n",
        "\n",
        "* 教師あり学習\n",
        "* 回帰\n",
        "\n",
        "である。"
      ],
      "metadata": {
        "id": "T0vKXKIjS3my"
      }
    },
    {
      "cell_type": "markdown",
      "source": [
        "## 1. データセットの準備（回帰）\n",
        "### 1-1. CSVファイルのアップロードと読み込み\n",
        "配布するカリフォルニア住宅価格のデータセット（california.csv）を使用する。\n",
        "\n",
        "CSVファイルの読み込みには、pandasモジュールのread_csv()を使用する。\n",
        "\n",
        "```\n",
        "←まず、CVSファイルを開いて中身を確認し、Google Colabにファイルをアップロードする。\n",
        "```\n",
        "\n",
        "```\n",
        "# アップロード後\n",
        "import pandas as pd\n",
        "df_wine = pd.read_csv('ファイル名')\n",
        "```\n"
      ],
      "metadata": {
        "id": "kOMYVZT1ofiV"
      }
    },
    {
      "cell_type": "code",
      "source": [
        "# CSVファイルの読み込み\n",
        "\n",
        "\n",
        "# 表示して確認してもよい\n"
      ],
      "metadata": {
        "id": "fW2zlnFPpAep"
      },
      "execution_count": null,
      "outputs": []
    },
    {
      "cell_type": "markdown",
      "metadata": {
        "id": "2hS36SDGRkqZ"
      },
      "source": [
        "### 1-2. 入力データと出力データの作成\n",
        "\n",
        "入力データとして、最初の8列（最後の「MedHouseVal」以外）を使用する。\n",
        "\n",
        "```\n",
        "# 入力データに使用する列を抽出（最初の13列にする、最後の1列を削除）\n",
        "変数名 = df_cal.iloc[:,a:b] # 行は全て、列はa列目からb-1列目までにする\n",
        "または\n",
        "変数名 = df_cal.drop('削除する列名', axis=1) # 列の場合はaxis=1\n",
        "など\n",
        "\n",
        "```\n",
        "\n",
        "*  最初の8列（MedHouseVal以外）が入力\n",
        "*  最後の1列（MedHouseVal）が出力"
      ]
    },
    {
      "cell_type": "code",
      "metadata": {
        "id": "NiKx5rQrstz_"
      },
      "source": [
        "# 入力データに使用する列を抽出する(最初の8列を取るか、最後の1列を削除)\n",
        "\n",
        "# 表示して確認してもよい\n"
      ],
      "execution_count": null,
      "outputs": []
    },
    {
      "cell_type": "markdown",
      "source": [
        "出力に必要な列のみ抽出して出力データyを作成する。\n",
        "```\n",
        "#抽出（1列なので列名の指定が簡単）\n",
        "y = df_cal['列名']\n",
        "\n",
        "```"
      ],
      "metadata": {
        "id": "5nDDSyEnqHZC"
      }
    },
    {
      "cell_type": "code",
      "metadata": {
        "id": "YEaY79srtZzm"
      },
      "source": [
        "# 出力データに使用する列を抽出\n",
        "\n",
        "# 表示して確認してもよい\n"
      ],
      "execution_count": null,
      "outputs": []
    },
    {
      "cell_type": "markdown",
      "source": [
        "### 1-3. 訓練用とテスト用に分ける\n",
        "入力データXと出力データyができたら、訓練用データとテストデータに分割する。train_test_split()を使用する。\n",
        "\n",
        "**random_stateには学籍番号を入れてください**\n",
        "\n",
        "```\n",
        "# インポート\n",
        "from sklearn.model_selection import train_test_split\n",
        "# 訓練用データセットとテスト用データセットへの分割（訓練用80%、テスト用20%）\n",
        "X_train, X_test, y_train, y_test = train_test_split(X, y, test_size=0.2, random_state=学籍番号)\n",
        "```"
      ],
      "metadata": {
        "id": "OWyLMd1CqWiD"
      }
    },
    {
      "cell_type": "code",
      "metadata": {
        "id": "dX69yRO7tQeL"
      },
      "source": [
        "# データセットを分割する関数の読み込み\n",
        "\n",
        "# 訓練用データセットとテスト用データセットへの分割（訓練用80%、テスト用20%）、random_stateは学籍番号\n"
      ],
      "execution_count": null,
      "outputs": []
    },
    {
      "cell_type": "markdown",
      "metadata": {
        "id": "DniNMLRdt8Ar"
      },
      "source": [
        "## 2. アルゴリズムの選択\n",
        "### 2-1. 使用可能な全てのアルゴリズムの取得\n",
        "sklearnで使用可能なアルゴリズム一覧を取得するには、sklearn.utils.discovery.all_estimatorsが使用できる。今回は教師あり学習の回帰問題に該当するため、type_filter=\"regressor\"を指定する。\n",
        "\n",
        "[参考：all_estimators](https://scikit-learn.org/stable/modules/generated/sklearn.utils.discovery.all_estimators.html)\n",
        "\n",
        "```\n",
        "# 使用可能なアルゴリズムの取得\n",
        "from sklearn.utils.discovery import all_estimators\n",
        "all_reg = all_estimators(type_filter=\"regressor\")\n",
        "# 表示して確認してもよい\n",
        "\n",
        "```"
      ]
    },
    {
      "cell_type": "code",
      "metadata": {
        "id": "aN8eikiat_bA"
      },
      "source": [
        "#使用可能なアルゴリズムの取得\n",
        "\n",
        "# 表示して確認してもよい\n"
      ],
      "execution_count": null,
      "outputs": []
    },
    {
      "cell_type": "markdown",
      "metadata": {
        "id": "RsfNyCYJTtIX"
      },
      "source": [
        "### 2-2. 各アルゴリズムの性能比較\n",
        "\n",
        "それぞれのアルゴリズムに対して、\n",
        "\n",
        "*   モデル作成\n",
        "*   scoreを計算\n",
        "\n",
        "を実施し、forループで繰り返す。\n",
        "\n",
        "**アルゴリズムによっては、学習に時間がかかるものがあるので、今回はいくつかのアルゴリズムを除外する。<br>それでも数分かかる可能性あり。**\n",
        "\n",
        "```\n",
        "import warnings\n",
        "\n",
        "#警告を非表示にする\n",
        "warnings.simplefilter('ignore')\n",
        "\n",
        "for(name, algo) in all_reg:\n",
        "  # いくつかのアルゴリズムを除外\n",
        "  if name == \"QuantileRegressor\" or name == \"GaussianProcessRegressor\":\n",
        "    continue\n",
        "  try:\n",
        "    model = algo()\n",
        "    model.fit(X_train, y_train)\n",
        "    score = model.score(X_test, y_test)\n",
        "    print(name,\"のscore＝\",score)\n",
        "\n",
        "  # エラーが出ても止まらないようにする\n",
        "  except Exception as e:\n",
        "    pass\n",
        "\n",
        "# 警告表示を元に戻す\n",
        "warnings.simplefilter('default')\n",
        "```"
      ]
    },
    {
      "cell_type": "code",
      "metadata": {
        "id": "_F92MpOiuenK"
      },
      "source": [
        "# forループを使用して各アルゴリズムのscoreを表示する\n",
        "# scoreが最大になるアルゴリズムをプログラム上で探してもよい\n"
      ],
      "execution_count": null,
      "outputs": []
    },
    {
      "cell_type": "markdown",
      "metadata": {
        "id": "S3m0EDYnUXyu"
      },
      "source": [
        "#### 2-3. モデルを選択する\n",
        "上記の結果から、精度が良さそうなモデルを選択する。\n",
        "\n",
        "**注意：アンサンブル学習（ランダムフォレストなど）を選ぶとモデルのファイルサイズが大きくなる。**"
      ]
    },
    {
      "cell_type": "markdown",
      "metadata": {
        "id": "knO6-HOyUi5u"
      },
      "source": [
        "**[課題] 選択したモデルと簡単な説明を記入してください。**\n",
        "*   **選択したモデル（回帰）：[]**\n",
        "*   **モデルの簡単な説明：[]**\n"
      ]
    },
    {
      "cell_type": "markdown",
      "source": [
        "## 3. モデルの作成\n",
        "選択したモデルについて、すべての学習データ（X_test, y_test）で学習し、テストデータでscoreを出してみよう。\n",
        "モデルを作成する際は、直接クラスを指定するか、[scikit-learnの公式](https://scikit-learn.org/stable/)などで、import元の場所を調べる。\n",
        "\n",
        "**警告が出る場合も、とりあえずは気にしなくていいです。**"
      ],
      "metadata": {
        "id": "VaHeMykFuhPQ"
      }
    },
    {
      "cell_type": "code",
      "metadata": {
        "id": "9V19dEJjUN0i"
      },
      "source": [
        "# モデルのインポート、作成、fit、score\n",
        "\n"
      ],
      "execution_count": null,
      "outputs": []
    },
    {
      "cell_type": "markdown",
      "source": [
        "↑ scoreが表示できていることを確認すること。"
      ],
      "metadata": {
        "id": "troHhTqkOGQn"
      }
    },
    {
      "cell_type": "markdown",
      "metadata": {
        "id": "ixD-Zlo2VCSs"
      },
      "source": [
        "## 提出物など\n",
        "\n",
        "*   テキストブロックへの追記（選択したモデル）\n",
        "*   コードブロックの記入と実行（特に、最後のscoreの値）\n",
        "\n",
        "が確認出来たら、**教員に結果（選択したモデルと最後のscore）を確認してもらうこと。** その後、ファイルが保存されているかを確認し、「ファイル＞ダウンロード＞.ipynbをダウンロード」を順にクリックして.ipynbファイルをダウンロードする。\n",
        "\n",
        "**ダウンロードしたipynbファイルを指定の場所に提出してください。**\n",
        "\n"
      ]
    }
  ]
}