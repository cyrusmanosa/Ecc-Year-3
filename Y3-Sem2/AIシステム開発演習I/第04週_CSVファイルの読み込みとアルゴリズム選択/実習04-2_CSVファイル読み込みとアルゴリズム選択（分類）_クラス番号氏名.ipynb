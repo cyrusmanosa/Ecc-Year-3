{
  "nbformat": 4,
  "nbformat_minor": 0,
  "metadata": {
    "colab": {
      "provenance": []
    },
    "kernelspec": {
      "name": "python3",
      "display_name": "Python 3"
    }
  },
  "cells": [
    {
      "cell_type": "markdown",
      "source": [
        "**実習ファイルをアップロードして開いたら、一番上のファイル名「クラス番号氏名」を必ず自分のものに書き換えること。**"
      ],
      "metadata": {
        "id": "UXotA7v5eEpP"
      }
    },
    {
      "cell_type": "markdown",
      "metadata": {
        "id": "ykEaNn_yb2Sw"
      },
      "source": [
        "# 実習04-2 CSVファイル読み込みとアルゴリズム選択（分類）\n",
        "---\n",
        "次に、分類問題について、次の手順でアルゴリズムの選択を行う。\n",
        "\n",
        "0.  実行したいタスクと学習分類の確認\n",
        "1.   学習用データをCSVファイルから読み込み、データを準備する。\n",
        "2.   全ての選択可能なアルゴリズムについて学習を行い、精度の高そうなモデルを選択する。\n",
        "3.   選択したアルゴリズムを使用して再びモデルを作成し、訓練用データで訓練した後、テスト用データで精度を確認する。\n"
      ]
    },
    {
      "cell_type": "markdown",
      "source": [
        "## 0. 実行したいタスクと学習分類の確認\n",
        "\n",
        "ここでは、ワインの情報（アルコール度数や色の濃さなど13項目）から、ワインの種類（class_0、class_1、class_2）がどれかを予測するAIを作成する。使用するデータセットに予測すべき値が含まれており、予測は3つのうちどれかに分類するため、学習分類は\n",
        "\n",
        "* 教師あり学習\n",
        "* 分類（多値分類）\n",
        "\n",
        "である。"
      ],
      "metadata": {
        "id": "nxFGYB-6QpQ6"
      }
    },
    {
      "cell_type": "markdown",
      "metadata": {
        "id": "ef_KUyJWd-XN"
      },
      "source": [
        "## 1. データセットの準備\n",
        "### 1-1. CSVファイルのアップロードと読み込み\n",
        "分類問題には、配布するワインのデータセット（wine.csv）を使用し、\n",
        "CSVファイルの読み込みには、pandasモジュールのread_csv()を使用する。\n",
        "\n",
        "```\n",
        "←まず、CVSファイルを開いて中身を確認し、Google Colabにファイルをアップロードする。\n",
        "```\n",
        "\n",
        "```\n",
        "# アップロード後\n",
        "import pandas as pd\n",
        "df_wine = pd.read_csv('ファイル名')\n",
        "```\n"
      ]
    },
    {
      "cell_type": "code",
      "metadata": {
        "id": "qva0TXwaLHmQ"
      },
      "source": [
        "# CSVファイルの読み込み\n",
        "\n",
        "# 表示して確認してもよい\n"
      ],
      "execution_count": null,
      "outputs": []
    },
    {
      "cell_type": "markdown",
      "metadata": {
        "id": "n55bAIz0QjLJ"
      },
      "source": [
        "#### 1-2. 入力データと出力データの作成\n",
        "入力データとして、最初の13列（最後の「class」以外）を使用する。\n",
        "```\n",
        "# 入力データに使用する列を抽出（最初の13列にする、最後の1列を削除）\n",
        "変数名 = df_wine.iloc[:,a:b] # 行は全て、列はa列目からb-1列目までにする\n",
        "または\n",
        "変数名 = df_wine.drop('削除する列名', axis=1) # 列の場合はaxis=1\n",
        "など\n",
        "\n",
        "```"
      ]
    },
    {
      "cell_type": "code",
      "metadata": {
        "id": "KR0fWI0XQn1I"
      },
      "source": [
        "# 入力データに使用する列を抽出する(最初の13列を取るか、最後の1列を削除)\n",
        "\n",
        "# 表示して確認してもよい\n"
      ],
      "execution_count": null,
      "outputs": []
    },
    {
      "cell_type": "markdown",
      "metadata": {
        "id": "e1q-uva9UlpM"
      },
      "source": [
        "出力に必要な列のみ抽出して出力データyを作\n",
        "成する。\n",
        "```\n",
        "#抽出（1列なので列名の指定が簡単）\n",
        "y = df_wine['列名']\n",
        "\n",
        "```"
      ]
    },
    {
      "cell_type": "code",
      "metadata": {
        "id": "W3B_wXTMUoHC"
      },
      "source": [
        "# 抽出\n",
        "\n",
        "# 表示して確認してもよい\n"
      ],
      "execution_count": null,
      "outputs": []
    },
    {
      "cell_type": "markdown",
      "metadata": {
        "id": "h7UdEdOxWRr3"
      },
      "source": [
        "### 1-3. 訓練用とテスト用に分ける\n",
        "入力データXと出力データyができたら、訓練用データとテストデータに分割する。train_test_split()を使用する。\n",
        "\n",
        "**random_stateには学籍番号を入れてください**\n",
        "\n",
        "※分類問題では、出力データのクラス割合に応じて分割（層化）をする場合がある。（stratify=y）\n",
        "\n",
        "```\n",
        "# インポート\n",
        "from sklearn.model_selection import train_test_split\n",
        "# 訓練用データセットとテスト用データセットへの分割（訓練用80%、テスト用20%）、stratify=y\n",
        "X_train, X_test, y_train, y_test = train_test_split(X, y, test_size=0.2, random_state=学籍番号, stratify=y)\n",
        "```"
      ]
    },
    {
      "cell_type": "code",
      "metadata": {
        "id": "ovbnOo9tW6fW"
      },
      "source": [
        "# データセットを分割する関数の読み込み\n",
        "\n",
        "# 訓練用データセットとテスト用データセットへの分割（訓練用70%、テスト用30%）\n"
      ],
      "execution_count": null,
      "outputs": []
    },
    {
      "cell_type": "markdown",
      "metadata": {
        "id": "Liy_Z3L9PXTL"
      },
      "source": [
        "## 2. アルゴリズムの選択\n",
        "### 2-1. 使用可能な全てのアルゴリズムの取得\n",
        "sklearnで使用可能なアルゴリズム一覧を取得するには、sklearn.utils.discovery.all_estimatorsが使用できる。 今回は教師あり学習の分類問題に該当するため、type_filter=\"classifier\"を指定する。\n",
        "\n",
        "```\n",
        "# 使用可能なアルゴリズムの取得\n",
        "from sklearn.utils.discovery import all_estimators\n",
        "all_clf = all_estimators(type_filter=\"classifier\")\n",
        "# 表示して確認してもよい\n",
        "\n",
        "```"
      ]
    },
    {
      "cell_type": "code",
      "metadata": {
        "id": "5wPw6WbfhcKH"
      },
      "source": [
        "#使用可能なアルゴリズムの取得\n",
        "\n",
        "# 表示して確認してもよい\n"
      ],
      "execution_count": null,
      "outputs": []
    },
    {
      "cell_type": "markdown",
      "metadata": {
        "id": "Bxf44wnoiPIq"
      },
      "source": [
        "### 2-2. 各アルゴリズムの性能比較\n",
        "それぞれのアルゴリズムに対して、\n",
        "\n",
        "*   モデル作成\n",
        "*   scoreを計算\n",
        "\n",
        "を実施し、forループで繰り返す。\n",
        "\n",
        "\n",
        "```\n",
        "import warnings\n",
        "\n",
        "#警告を非表示にする\n",
        "warnings.simplefilter('ignore')\n",
        "\n",
        "for(name, algo) in all_clf:\n",
        "  try:\n",
        "    model = algo()\n",
        "    model.fit(X_train, y_train)\n",
        "    score = model.score(X_test, y_test)\n",
        "    print(name,\"のscore＝\",score)\n",
        "\n",
        "  # エラーが出ても止まらないようにする\n",
        "  except Exception as e:\n",
        "    pass\n",
        "\n",
        "# 警告表示を元に戻す\n",
        "warnings.simplefilter('default')\n",
        "```\n",
        "\n",
        "\n"
      ]
    },
    {
      "cell_type": "code",
      "metadata": {
        "id": "27Ao-yZhPWwo"
      },
      "source": [
        "# forループを使用して各アルゴリズムのscoreを表示する\n",
        "# scoreが最大になるアルゴリズムをプログラム上で探してもよい"
      ],
      "execution_count": null,
      "outputs": []
    },
    {
      "cell_type": "markdown",
      "metadata": {
        "id": "yQEQjtBGQoR1"
      },
      "source": [
        "#### 2-3. モデルを選択する\n",
        "上記の結果から、精度が良さそうなモデルを選択する。"
      ]
    },
    {
      "cell_type": "markdown",
      "metadata": {
        "id": "bODsHEG0Qtfa"
      },
      "source": [
        "**[課題] 選択したモデルと簡単な説明を記入してください。**\n",
        "*   **選択したモデル（分類）：[]**\n",
        "*   **モデルの簡単な説明：[]**\n",
        "\n"
      ]
    },
    {
      "cell_type": "markdown",
      "metadata": {
        "id": "lX3czP8Efwoo"
      },
      "source": [
        "## 3. モデルの作成\n",
        "選択したモデルについて、すべての学習データで学習し、テストデータでscoreを出してみよう。\n",
        "モデルを作成する際は、直接クラスを指定するか、[scikit-learnの公式](https://scikit-learn.org/stable/)などで、import元の場所を調べる。\n",
        "\n",
        "**モデル作成時に、random_stateを学籍番号に設定すること。**<br>\n",
        "**警告が出る場合も、とりあえずは気にしなくていいです。**"
      ]
    },
    {
      "cell_type": "code",
      "metadata": {
        "id": "N15cGdYiwF_T"
      },
      "source": [
        "# モデルのインポート、作成、fit、score"
      ],
      "execution_count": null,
      "outputs": []
    },
    {
      "cell_type": "markdown",
      "metadata": {
        "id": "ixD-Zlo2VCSs"
      },
      "source": [
        "## 提出物など\n",
        "\n",
        "*   テキストブロックへの追記（選択したモデル）\n",
        "*   コードブロックの記入と実行（特に、最後のscoreの値）\n",
        "\n",
        "が確認出来たら、**教員に結果（選択したモデルと最後のscore）を確認してもらうこと。** その後、ファイルが保存されているかを確認し、「ファイル＞ダウンロード＞.ipynbをダウンロード」を順にクリックして.ipynbファイルをダウンロードする。\n",
        "\n",
        "**ダウンロードしたipynbファイルを指定の場所に提出してください。**\n"
      ]
    }
  ]
}